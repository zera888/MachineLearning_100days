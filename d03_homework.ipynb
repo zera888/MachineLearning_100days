{
 "cells": [
  {
   "cell_type": "markdown",
   "metadata": {},
   "source": [
    "## [作業目標]\n",
    "持續接觸有關機器學習的相關專案與最新技術"
   ]
  },
  {
   "cell_type": "markdown",
   "metadata": {},
   "source": [
    "## [作業重點]\n",
    "透過觀察頂尖公司的機器學習文章，來了解各公司是怎麼應用機器學習在實際的專案上"
   ]
  },
  {
   "cell_type": "markdown",
   "metadata": {},
   "source": [
    "## [作業]\n",
    "今天的作業希望大家能夠看看全球機器學習巨頭們在做的機器學習專案。以 google 為例，下圖是 Google 內部專案使用機器學習的數量，隨著時間進展，現在早已超過 2000 個專案在使用機器學習。"
   ]
  },
  {
   "cell_type": "markdown",
   "metadata": {},
   "source": [
    "![image](https://cdn-images-1.medium.com/max/800/1*U_L8qI8RmYS-MOBrYvXhSA.png)"
   ]
  },
  {
   "cell_type": "markdown",
   "metadata": {},
   "source": [
    "底下幫同學整理幾間知名企業的 blog 或機器學習網站 (自行搜尋也可)，這些網站都會整理最新的機器學習專案或者是技術文章，請挑選一篇文章閱讀並試著回答\n",
    "1. 專案的目標？ (要解決什麼問題）\n",
    "2. 使用的技術是？ (只需知道名稱即可，例如：使用 CNN 卷積神經網路做影像分類)\n",
    "3. 資料來源？ "
   ]
  },
  {
   "cell_type": "markdown",
   "metadata": {},
   "source": [
    "- [Google AI blog](https://ai.googleblog.com/)\n",
    "- [Facebook Research blog](https://research.fb.com/blog/)\n",
    "- [Apple machine learning journal](https://machinelearning.apple.com/)\n",
    "- [機器之心](https://www.jiqizhixin.com/)\n",
    "- [雷鋒網](http://www.leiphone.com/category/ai)"
   ]
  },
  {
   "cell_type": "code",
   "execution_count": null,
   "metadata": {},
   "outputs": [],
   "source": [
    "1。Answer： 我閱讀的專案是這篇：Analytics API frature\n",
    "            (網址：https://research.fb.com/blog/2021/03/new-analytics-api-for-researchers-studying-facebook-page-data/)\n",
    "            主要專案的目標是利用社群媒體的讀者回饋作為資料來源，並且根據收集到的資訊來分析這些數據所代表的意義。\n",
    "\n",
    "2。Answer： 利用FORT（ Facebook Open Research & Transparency）平台做資料分析。\n",
    "\n",
    "3。Answer： 借助FORT Analytics API，我們提供了三個新的端點。這些數據都是按時間間隔收集的匯總時間序列數據，包括：\n",
    "\n",
    "            每頁按國家/地區列出的終身關注者計數（曾經關注某個頁面的用戶數）。\n",
    "            專頁管理員的帖子數（僅適用於專頁管理員發布的帖子，不適用於用戶帖子）\n",
    "            頁面參與度計數，其中參與度定義為在該頁面上創建的帖子的喜歡，評論，點擊和分享的總數\n",
    "\n",
    "            與其他與研究相關的API不同，這些終結點可促進對整個公共Facebook Pages的查詢。\n"
   ]
  }
 ],
 "metadata": {
  "kernelspec": {
   "display_name": "Python 3",
   "language": "python",
   "name": "python3"
  },
  "language_info": {
   "codemirror_mode": {
    "name": "ipython",
    "version": 3
   },
   "file_extension": ".py",
   "mimetype": "text/x-python",
   "name": "python",
   "nbconvert_exporter": "python",
   "pygments_lexer": "ipython3",
   "version": "3.8.5"
  }
 },
 "nbformat": 4,
 "nbformat_minor": 2
}
