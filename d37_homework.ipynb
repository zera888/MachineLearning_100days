{
 "cells": [
  {
   "cell_type": "markdown",
   "metadata": {},
   "source": [
    "## [作業重點]\n",
    "了解線性回歸的模型發展歷程，並了解優勢與劣勢，以及其使用情境"
   ]
  },
  {
   "cell_type": "markdown",
   "metadata": {},
   "source": [
    "## 作業"
   ]
  },
  {
   "cell_type": "markdown",
   "metadata": {},
   "source": [
    "請閱讀以下相關文獻，並回答以下問題\n",
    "\n",
    "[Linear Regression 詳細介紹](https://brohrer.mcknote.com/zh-Hant/how_machine_learning_works/how_linear_regression_works.html)\n",
    "\n",
    "[Logistics Regression 詳細介紹](https://medium.com/@yehjames/%E8%B3%87%E6%96%99%E5%88%86%E6%9E%90-%E6%A9%9F%E5%99%A8%E5%AD%B8%E7%BF%92-%E7%AC%AC3-3%E8%AC%9B-%E7%B7%9A%E6%80%A7%E5%88%86%E9%A1%9E-%E9%82%8F%E8%BC%AF%E6%96%AF%E5%9B%9E%E6%AD%B8-logistic-regression-%E4%BB%8B%E7%B4%B9-a1a5f47017e5)\n"
   ]
  },
  {
   "cell_type": "markdown",
   "metadata": {},
   "source": [
    "1. 線性回歸模型能夠準確預測非線性關係的資料集嗎?\n",
    "2. 回歸模型是否對資料分布有基本假設?\n"
   ]
  },
  {
   "cell_type": "code",
   "execution_count": null,
   "metadata": {},
   "outputs": [],
   "source": [
    "1.  線性回歸模型能夠準確預測非線性關係的資料集嗎?\n",
    "Anwer: 非線性回歸\n",
    "1.\t   遇到非線性回歸問題可以藉助數學手段化為線性回歸問題處理。\n",
    "2.\t   處理方法：\n",
    "      •\t可線性化問題： 處理可線性化處理的非線性回歸的基本方法是，通過變量變換，將非線性回歸化為線性回歸，然後用線性回歸方法\n",
    "                        處理。按最小二乘法原理來求出係數值，所得到的模型為非線性回歸模型(nonlinear regression model)\n",
    "      •\t不可線性化問題： 對實際科學研究中常遇到不可線性處理的非線性回歸問題，提出了一種新的解決方法。在求誤差平方和最小的極值\n",
    "                          問題上，應用了最優化方法中對無約束極值問題的一種數學解法——單純形法。應用結果證明，這種非線性回歸的\n",
    "                          方法算法比較簡單,收斂效果和收斂速度都比較理想。\n"
   ]
  },
  {
   "cell_type": "code",
   "execution_count": null,
   "metadata": {},
   "outputs": [],
   "source": [
    "2.  回歸模型是否對資料分布有基本假設?\n",
    "Answer:    迴歸分析是蠻常採用的統計方法之一，而在進行迴歸分析之前，針對殘差的部分存在幾項基本的假設，當資料違反這些基本假設而進行分析時，通常會使研究結果產生偏誤，至於偏誤的程度，當然就視資料違反的程度而定，其假設包含：\n",
    "\n",
    "            （1）常態性\n",
    "\n",
    "            （2）變異數同質性\n",
    "\n",
    "            （3）獨立性\n",
    "    "
   ]
  }
 ],
 "metadata": {
  "kernelspec": {
   "display_name": "Python 3",
   "language": "python",
   "name": "python3"
  },
  "language_info": {
   "codemirror_mode": {
    "name": "ipython",
    "version": 3
   },
   "file_extension": ".py",
   "mimetype": "text/x-python",
   "name": "python",
   "nbconvert_exporter": "python",
   "pygments_lexer": "ipython3",
   "version": "3.8.5"
  }
 },
 "nbformat": 4,
 "nbformat_minor": 2
}
