{
 "cells": [
  {
   "cell_type": "markdown",
   "metadata": {},
   "source": [
    "## [作業目標]\n",
    "了解機器學習適合應用的領域與範疇。"
   ]
  },
  {
   "cell_type": "markdown",
   "metadata": {},
   "source": [
    "## [作業重點]\n",
    "透過瞭解機器學習的運作方式，找出非常適用機器學習應用的領域及其原因"
   ]
  },
  {
   "cell_type": "markdown",
   "metadata": {},
   "source": [
    "## 作業\n",
    "請找出一個你認為機器學習可以發光發熱的領域並闡述原因? "
   ]
  },
  {
   "cell_type": "code",
   "execution_count": null,
   "metadata": {},
   "outputs": [],
   "source": [
    " 回答：  這是我最近在網路上看到的一個例子，就是利用機器學習去辨識疾病的發生，例如癌症。很多疾病在一開始發展的時候，其實用肉眼是很難以辨識的。\n",
    "         但是如果透過機器學習的方式，可以在疾病尚未有明顯的病徵的時候，就可以偵測出肉眼很難分辨的細胞病變，並且預測出疾病的演化，然後加以捕捉\n",
    "         疾病發展的影像，並且透過機器學習的方式，建立資料病徵的資料庫或是歷史。讓很多疾病，特別是癌症在疾病的發展早期，就透過設備捕捉到，並且\n",
    "            加以觀察確認，早期發現，早期治療。所以，我相信，這是未來機器學習可以發光發熱的一個領域。\n",
    "        \n",
    "         "
   ]
  }
 ],
 "metadata": {
  "kernelspec": {
   "display_name": "Python 3",
   "language": "python",
   "name": "python3"
  },
  "language_info": {
   "codemirror_mode": {
    "name": "ipython",
    "version": 3
   },
   "file_extension": ".py",
   "mimetype": "text/x-python",
   "name": "python",
   "nbconvert_exporter": "python",
   "pygments_lexer": "ipython3",
   "version": "3.8.5"
  }
 },
 "nbformat": 4,
 "nbformat_minor": 2
}
